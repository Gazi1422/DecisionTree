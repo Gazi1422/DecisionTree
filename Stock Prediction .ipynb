{
 "cells": [
  {
   "cell_type": "code",
   "execution_count": 2,
   "id": "be4f8385",
   "metadata": {},
   "outputs": [],
   "source": [
    "import numpy as np\n",
    "import pandas as pd\n",
    "import matplotlib.pyplot as plt\n",
    "from sklearn.linear_model import LinearRegression\n",
    "from sklearn.model_selection import train_test_split"
   ]
  },
  {
   "cell_type": "code",
   "execution_count": 39,
   "id": "7fabcb9c",
   "metadata": {},
   "outputs": [
    {
     "data": {
      "text/html": [
       "<div>\n",
       "<style scoped>\n",
       "    .dataframe tbody tr th:only-of-type {\n",
       "        vertical-align: middle;\n",
       "    }\n",
       "\n",
       "    .dataframe tbody tr th {\n",
       "        vertical-align: top;\n",
       "    }\n",
       "\n",
       "    .dataframe thead th {\n",
       "        text-align: right;\n",
       "    }\n",
       "</style>\n",
       "<table border=\"1\" class=\"dataframe\">\n",
       "  <thead>\n",
       "    <tr style=\"text-align: right;\">\n",
       "      <th></th>\n",
       "      <th>Date</th>\n",
       "      <th>Open</th>\n",
       "      <th>High</th>\n",
       "      <th>Low</th>\n",
       "      <th>Close</th>\n",
       "      <th>Adj Close</th>\n",
       "      <th>Volume</th>\n",
       "    </tr>\n",
       "  </thead>\n",
       "  <tbody>\n",
       "    <tr>\n",
       "      <th>0</th>\n",
       "      <td>1996-01-01</td>\n",
       "      <td>16.009800</td>\n",
       "      <td>16.095699</td>\n",
       "      <td>15.904300</td>\n",
       "      <td>16.0683</td>\n",
       "      <td>2.426239</td>\n",
       "      <td>47600787.0</td>\n",
       "    </tr>\n",
       "    <tr>\n",
       "      <th>1</th>\n",
       "      <td>1996-01-02</td>\n",
       "      <td>16.029301</td>\n",
       "      <td>16.107401</td>\n",
       "      <td>15.826200</td>\n",
       "      <td>15.9434</td>\n",
       "      <td>2.407380</td>\n",
       "      <td>77143764.0</td>\n",
       "    </tr>\n",
       "    <tr>\n",
       "      <th>2</th>\n",
       "      <td>1996-01-03</td>\n",
       "      <td>16.205000</td>\n",
       "      <td>16.943001</td>\n",
       "      <td>16.029301</td>\n",
       "      <td>16.0644</td>\n",
       "      <td>2.425650</td>\n",
       "      <td>95695836.0</td>\n",
       "    </tr>\n",
       "    <tr>\n",
       "      <th>3</th>\n",
       "      <td>1996-01-04</td>\n",
       "      <td>15.912100</td>\n",
       "      <td>15.962900</td>\n",
       "      <td>15.701300</td>\n",
       "      <td>15.9160</td>\n",
       "      <td>2.403243</td>\n",
       "      <td>99159504.0</td>\n",
       "    </tr>\n",
       "    <tr>\n",
       "      <th>4</th>\n",
       "      <td>1996-01-05</td>\n",
       "      <td>15.853600</td>\n",
       "      <td>15.853600</td>\n",
       "      <td>15.670000</td>\n",
       "      <td>15.8067</td>\n",
       "      <td>2.386739</td>\n",
       "      <td>76213503.0</td>\n",
       "    </tr>\n",
       "  </tbody>\n",
       "</table>\n",
       "</div>"
      ],
      "text/plain": [
       "         Date       Open       High        Low    Close  Adj Close      Volume\n",
       "0  1996-01-01  16.009800  16.095699  15.904300  16.0683   2.426239  47600787.0\n",
       "1  1996-01-02  16.029301  16.107401  15.826200  15.9434   2.407380  77143764.0\n",
       "2  1996-01-03  16.205000  16.943001  16.029301  16.0644   2.425650  95695836.0\n",
       "3  1996-01-04  15.912100  15.962900  15.701300  15.9160   2.403243  99159504.0\n",
       "4  1996-01-05  15.853600  15.853600  15.670000  15.8067   2.386739  76213503.0"
      ]
     },
     "execution_count": 39,
     "metadata": {},
     "output_type": "execute_result"
    }
   ],
   "source": [
    "df=pd.read_csv(\"reliance.csv\")\n",
    "df.head()"
   ]
  },
  {
   "cell_type": "code",
   "execution_count": 40,
   "id": "7e3a1f5f",
   "metadata": {
    "scrolled": false
   },
   "outputs": [
    {
     "data": {
      "text/plain": [
       "(5953, 7)"
      ]
     },
     "execution_count": 40,
     "metadata": {},
     "output_type": "execute_result"
    }
   ],
   "source": [
    "df.shape"
   ]
  },
  {
   "cell_type": "code",
   "execution_count": 41,
   "id": "b3d6a33c",
   "metadata": {},
   "outputs": [
    {
     "name": "stdout",
     "output_type": "stream",
     "text": [
      "<class 'pandas.core.frame.DataFrame'>\n",
      "RangeIndex: 5953 entries, 0 to 5952\n",
      "Data columns (total 7 columns):\n",
      " #   Column     Non-Null Count  Dtype  \n",
      "---  ------     --------------  -----  \n",
      " 0   Date       5953 non-null   object \n",
      " 1   Open       5833 non-null   float64\n",
      " 2   High       5833 non-null   float64\n",
      " 3   Low        5833 non-null   float64\n",
      " 4   Close      5833 non-null   float64\n",
      " 5   Adj Close  5833 non-null   float64\n",
      " 6   Volume     5833 non-null   float64\n",
      "dtypes: float64(6), object(1)\n",
      "memory usage: 325.7+ KB\n"
     ]
    }
   ],
   "source": [
    "df.info()"
   ]
  },
  {
   "cell_type": "code",
   "execution_count": 51,
   "id": "3edf255e",
   "metadata": {},
   "outputs": [
    {
     "data": {
      "text/plain": [
       "Date           0\n",
       "Open           0\n",
       "High           0\n",
       "Low            0\n",
       "Close          0\n",
       "Adj Close    120\n",
       "Volume       120\n",
       "dtype: int64"
      ]
     },
     "execution_count": 51,
     "metadata": {},
     "output_type": "execute_result"
    }
   ],
   "source": [
    "df.isnull().sum()"
   ]
  },
  {
   "cell_type": "code",
   "execution_count": 52,
   "id": "199efbc7",
   "metadata": {},
   "outputs": [],
   "source": [
    "df[\"Open\"].fillna(df[\"Open\"].mean(),inplace=True)\n",
    "df[\"High\"].fillna(df[\"High\"].mean(),inplace=True)\n",
    "df[\"Low\"].fillna(df[\"Low\"].mean(),inplace=True)\n",
    "df[\"Close\"].fillna(df[\"Close\"].mean(),inplace=True)\n",
    "df[\"Adj Close\"].fillna(df[\"Adj Close\"].mean(),inplace=True)\n",
    "df[\"Volume\"].fillna(df[\"Volume\"].mean(),inplace=True)"
   ]
  },
  {
   "cell_type": "code",
   "execution_count": 53,
   "id": "c99d5e2e",
   "metadata": {},
   "outputs": [
    {
     "data": {
      "text/plain": [
       "Date         0\n",
       "Open         0\n",
       "High         0\n",
       "Low          0\n",
       "Close        0\n",
       "Adj Close    0\n",
       "Volume       0\n",
       "dtype: int64"
      ]
     },
     "execution_count": 53,
     "metadata": {},
     "output_type": "execute_result"
    }
   ],
   "source": [
    "df.isnull().sum()"
   ]
  },
  {
   "cell_type": "code",
   "execution_count": 54,
   "id": "5c66addc",
   "metadata": {},
   "outputs": [],
   "source": [
    "x=df.loc[:,\"High\":\"Volume\"]\n",
    "y=df.loc[:,\"Open\"]"
   ]
  },
  {
   "cell_type": "code",
   "execution_count": 55,
   "id": "c947a4eb",
   "metadata": {},
   "outputs": [],
   "source": [
    "x_train,x_test,y_train,y_test = train_test_split (x ,y ,test_size=0.2, random_state=0)"
   ]
  },
  {
   "cell_type": "code",
   "execution_count": 56,
   "id": "8b06ebd9",
   "metadata": {},
   "outputs": [],
   "source": [
    "lnr=LinearRegression()"
   ]
  },
  {
   "cell_type": "code",
   "execution_count": 57,
   "id": "4972d365",
   "metadata": {},
   "outputs": [
    {
     "data": {
      "text/plain": [
       "LinearRegression()"
      ]
     },
     "execution_count": 57,
     "metadata": {},
     "output_type": "execute_result"
    }
   ],
   "source": [
    "lnr.fit(x_train,y_train)"
   ]
  },
  {
   "cell_type": "code",
   "execution_count": 58,
   "id": "4da8d5af",
   "metadata": {},
   "outputs": [
    {
     "name": "stdout",
     "output_type": "stream",
     "text": [
      "slope [ 9.27442693e-01  7.59049114e-01 -6.90091880e-01  1.78084609e-03\n",
      " -1.07799532e-09]\n",
      "intercept 0.0158345007389471\n"
     ]
    }
   ],
   "source": [
    "m=lnr.coef_  # slope\n",
    "c=lnr.intercept_   #intersecpt\n",
    "print(\"slope\",m)\n",
    "print(\"intercept\",c)"
   ]
  },
  {
   "cell_type": "code",
   "execution_count": 59,
   "id": "d413412d",
   "metadata": {},
   "outputs": [
    {
     "name": "stdout",
     "output_type": "stream",
     "text": [
      "predicted y records: [ 14.59993182  61.54298119 335.68061418 ... 438.01811329 327.34569558\n",
      " 937.62118058]\n",
      "real answers 134      14.975000\n",
      "1364     61.540001\n",
      "555     335.690777\n",
      "4144    364.750000\n",
      "2858    339.500000\n",
      "           ...    \n",
      "1547     47.662201\n",
      "2857    341.750000\n",
      "3957    437.850006\n",
      "3364    325.000000\n",
      "5595    937.650024\n",
      "Name: Open, Length: 1191, dtype: float64\n"
     ]
    }
   ],
   "source": [
    "predicted_y = lnr.predict(x_test)# test the model\n",
    "print(\"predicted y records:\",predicted_y)\n",
    "print(\"real answers\",y_test)"
   ]
  },
  {
   "cell_type": "code",
   "execution_count": 61,
   "id": "a66b4ca9",
   "metadata": {},
   "outputs": [
    {
     "name": "stdout",
     "output_type": "stream",
     "text": [
      "RMSE is:-\n",
      "Mean Absolute Error(MAE): 2.0961082753663574\n",
      "Mean Squared Error(MSE): 18.15127541750674\n",
      "Root Mean Squared Error(RMSE): 4.26043136519141\n"
     ]
    }
   ],
   "source": [
    "from sklearn.metrics import mean_absolute_error\n",
    "from sklearn.metrics import mean_squared_error\n",
    "from math import sqrt\n",
    "print(\"RMSE is:-\")\n",
    "\n",
    "print('Mean Absolute Error(MAE):', mean_absolute_error(y_test, predicted_y))\n",
    "print('Mean Squared Error(MSE):', mean_squared_error(y_test, predicted_y))\n",
    "print('Root Mean Squared Error(RMSE):', np.sqrt(mean_squared_error(y_test, predicted_y)))"
   ]
  },
  {
   "cell_type": "code",
   "execution_count": null,
   "id": "064021ae",
   "metadata": {},
   "outputs": [],
   "source": []
  }
 ],
 "metadata": {
  "kernelspec": {
   "display_name": "Python 3",
   "language": "python",
   "name": "python3"
  },
  "language_info": {
   "codemirror_mode": {
    "name": "ipython",
    "version": 3
   },
   "file_extension": ".py",
   "mimetype": "text/x-python",
   "name": "python",
   "nbconvert_exporter": "python",
   "pygments_lexer": "ipython3",
   "version": "3.8.8"
  }
 },
 "nbformat": 4,
 "nbformat_minor": 5
}
